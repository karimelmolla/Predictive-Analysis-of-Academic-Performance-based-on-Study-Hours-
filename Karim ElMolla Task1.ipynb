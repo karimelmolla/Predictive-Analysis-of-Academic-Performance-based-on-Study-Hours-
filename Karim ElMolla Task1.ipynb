{
 "cells": [
  {
   "cell_type": "markdown",
   "id": "d20412b0",
   "metadata": {},
   "source": [
    "# Hello This is Karim ElMolla."
   ]
  },
  {
   "attachments": {
    "image.png": {
     "image/png": "[encoded data removed]"
    }
   },
   "cell_type": "markdown",
   "id": "202e18d1",
   "metadata": {},
   "source": [
    "![image.png](attachment:image.png)"
   ]
  },
  {
   "cell_type": "markdown",
   "id": "5e834333",
   "metadata": {},
   "source": [
    "# Task 1 : Predict the percentage that student based on the no. of study hours."
   ]
  },
  {
   "cell_type": "code",
   "execution_count": 11,
   "id": "49bb34ea",
   "metadata": {},
   "outputs": [],
   "source": [
    "# Firstly I will import all the libaries that I will use it in this task.\n",
    "import numpy as np\n",
    "import pandas as pd\n",
    "import matplotlib.pyplot as plt  \n",
    "%matplotlib inline\n",
    "import seaborn as sns\n",
    "from scipy import stats"
   ]
  },
  {
   "cell_type": "code",
   "execution_count": 12,
   "id": "3523fe27",
   "metadata": {},
   "outputs": [
    {
     "data": {
      "text/html": [
       "<div>\n",
       "<style scoped>\n",
       "    .dataframe tbody tr th:only-of-type {\n",
       "        vertical-align: middle;\n",
       "    }\n",
       "\n",
       "    .dataframe tbody tr th {\n",
       "        vertical-align: top;\n",
       "    }\n",
       "\n",
       "    .dataframe thead th {\n",
       "        text-align: right;\n",
       "    }\n",
       "</style>\n",
       "<table border=\"1\" class=\"dataframe\">\n",
       "  <thead>\n",
       "    <tr style=\"text-align: right;\">\n",
       "      <th></th>\n",
       "      <th>Hours</th>\n",
       "      <th>Scores</th>\n",
       "    </tr>\n",
       "  </thead>\n",
       "  <tbody>\n",
       "    <tr>\n",
       "      <th>0</th>\n",
       "      <td>2.5</td>\n",
       "      <td>21</td>\n",
       "    </tr>\n",
       "    <tr>\n",
       "      <th>1</th>\n",
       "      <td>5.1</td>\n",
       "      <td>47</td>\n",
       "    </tr>\n",
       "    <tr>\n",
       "      <th>2</th>\n",
       "      <td>3.2</td>\n",
       "      <td>27</td>\n",
       "    </tr>\n",
       "    <tr>\n",
       "      <th>3</th>\n",
       "      <td>8.5</td>\n",
       "      <td>75</td>\n",
       "    </tr>\n",
       "    <tr>\n",
       "      <th>4</th>\n",
       "      <td>3.5</td>\n",
       "      <td>30</td>\n",
       "    </tr>\n",
       "    <tr>\n",
       "      <th>5</th>\n",
       "      <td>1.5</td>\n",
       "      <td>20</td>\n",
       "    </tr>\n",
       "    <tr>\n",
       "      <th>6</th>\n",
       "      <td>9.2</td>\n",
       "      <td>88</td>\n",
       "    </tr>\n",
       "    <tr>\n",
       "      <th>7</th>\n",
       "      <td>5.5</td>\n",
       "      <td>60</td>\n",
       "    </tr>\n",
       "    <tr>\n",
       "      <th>8</th>\n",
       "      <td>8.3</td>\n",
       "      <td>81</td>\n",
       "    </tr>\n",
       "    <tr>\n",
       "      <th>9</th>\n",
       "      <td>2.7</td>\n",
       "      <td>25</td>\n",
       "    </tr>\n",
       "    <tr>\n",
       "      <th>10</th>\n",
       "      <td>7.7</td>\n",
       "      <td>85</td>\n",
       "    </tr>\n",
       "    <tr>\n",
       "      <th>11</th>\n",
       "      <td>5.9</td>\n",
       "      <td>62</td>\n",
       "    </tr>\n",
       "    <tr>\n",
       "      <th>12</th>\n",
       "      <td>4.5</td>\n",
       "      <td>41</td>\n",
       "    </tr>\n",
       "    <tr>\n",
       "      <th>13</th>\n",
       "      <td>3.3</td>\n",
       "      <td>42</td>\n",
       "    </tr>\n",
       "    <tr>\n",
       "      <th>14</th>\n",
       "      <td>1.1</td>\n",
       "      <td>17</td>\n",
       "    </tr>\n",
       "    <tr>\n",
       "      <th>15</th>\n",
       "      <td>8.9</td>\n",
       "      <td>95</td>\n",
       "    </tr>\n",
       "    <tr>\n",
       "      <th>16</th>\n",
       "      <td>2.5</td>\n",
       "      <td>30</td>\n",
       "    </tr>\n",
       "    <tr>\n",
       "      <th>17</th>\n",
       "      <td>1.9</td>\n",
       "      <td>24</td>\n",
       "    </tr>\n",
       "    <tr>\n",
       "      <th>18</th>\n",
       "      <td>6.1</td>\n",
       "      <td>67</td>\n",
       "    </tr>\n",
       "    <tr>\n",
       "      <th>19</th>\n",
       "      <td>7.4</td>\n",
       "      <td>69</td>\n",
       "    </tr>\n",
       "    <tr>\n",
       "      <th>20</th>\n",
       "      <td>2.7</td>\n",
       "      <td>30</td>\n",
       "    </tr>\n",
       "    <tr>\n",
       "      <th>21</th>\n",
       "      <td>4.8</td>\n",
       "      <td>54</td>\n",
       "    </tr>\n",
       "    <tr>\n",
       "      <th>22</th>\n",
       "      <td>3.8</td>\n",
       "      <td>35</td>\n",
       "    </tr>\n",
       "    <tr>\n",
       "      <th>23</th>\n",
       "      <td>6.9</td>\n",
       "      <td>76</td>\n",
       "    </tr>\n",
       "    <tr>\n",
       "      <th>24</th>\n",
       "      <td>7.8</td>\n",
       "      <td>86</td>\n",
       "    </tr>\n",
       "  </tbody>\n",
       "</table>\n",
       "</div>"
      ],
      "text/plain": [
       "    Hours  Scores\n",
       "0     2.5      21\n",
       "1     5.1      47\n",
       "2     3.2      27\n",
       "3     8.5      75\n",
       "4     3.5      30\n",
       "5     1.5      20\n",
       "6     9.2      88\n",
       "7     5.5      60\n",
       "8     8.3      81\n",
       "9     2.7      25\n",
       "10    7.7      85\n",
       "11    5.9      62\n",
       "12    4.5      41\n",
       "13    3.3      42\n",
       "14    1.1      17\n",
       "15    8.9      95\n",
       "16    2.5      30\n",
       "17    1.9      24\n",
       "18    6.1      67\n",
       "19    7.4      69\n",
       "20    2.7      30\n",
       "21    4.8      54\n",
       "22    3.8      35\n",
       "23    6.9      76\n",
       "24    7.8      86"
      ]
     },
     "execution_count": 12,
     "metadata": {},
     "output_type": "execute_result"
    }
   ],
   "source": [
    "data=pd.read_csv(\"https://raw.githubusercontent.com/AdiPersonalWorks/Random/master/student_scores%20-%20student_scores.csv\")\n",
    "data.head(25)"
   ]
  },
  {
   "cell_type": "code",
   "execution_count": 13,
   "id": "1c301fd5",
   "metadata": {
    "scrolled": true
   },
   "outputs": [
    {
     "name": "stdout",
     "output_type": "stream",
     "text": [
      "<class 'pandas.core.frame.DataFrame'>\n",
      "RangeIndex: 25 entries, 0 to 24\n",
      "Data columns (total 2 columns):\n",
      " #   Column  Non-Null Count  Dtype  \n",
      "---  ------  --------------  -----  \n",
      " 0   Hours   25 non-null     float64\n",
      " 1   Scores  25 non-null     int64  \n",
      "dtypes: float64(1), int64(1)\n",
      "memory usage: 528.0 bytes\n"
     ]
    }
   ],
   "source": [
    "data.info()"
   ]
  },
  {
   "cell_type": "code",
   "execution_count": 14,
   "id": "f4bdc73f",
   "metadata": {},
   "outputs": [
    {
     "data": {
      "text/html": [
       "<div>\n",
       "<style scoped>\n",
       "    .dataframe tbody tr th:only-of-type {\n",
       "        vertical-align: middle;\n",
       "    }\n",
       "\n",
       "    .dataframe tbody tr th {\n",
       "        vertical-align: top;\n",
       "    }\n",
       "\n",
       "    .dataframe thead th {\n",
       "        text-align: right;\n",
       "    }\n",
       "</style>\n",
       "<table border=\"1\" class=\"dataframe\">\n",
       "  <thead>\n",
       "    <tr style=\"text-align: right;\">\n",
       "      <th></th>\n",
       "      <th>Hours</th>\n",
       "      <th>Scores</th>\n",
       "    </tr>\n",
       "  </thead>\n",
       "  <tbody>\n",
       "    <tr>\n",
       "      <th>count</th>\n",
       "      <td>25.000000</td>\n",
       "      <td>25.000000</td>\n",
       "    </tr>\n",
       "    <tr>\n",
       "      <th>mean</th>\n",
       "      <td>5.012000</td>\n",
       "      <td>51.480000</td>\n",
       "    </tr>\n",
       "    <tr>\n",
       "      <th>std</th>\n",
       "      <td>2.525094</td>\n",
       "      <td>25.286887</td>\n",
       "    </tr>\n",
       "    <tr>\n",
       "      <th>min</th>\n",
       "      <td>1.100000</td>\n",
       "      <td>17.000000</td>\n",
       "    </tr>\n",
       "    <tr>\n",
       "      <th>25%</th>\n",
       "      <td>2.700000</td>\n",
       "      <td>30.000000</td>\n",
       "    </tr>\n",
       "    <tr>\n",
       "      <th>50%</th>\n",
       "      <td>4.800000</td>\n",
       "      <td>47.000000</td>\n",
       "    </tr>\n",
       "    <tr>\n",
       "      <th>75%</th>\n",
       "      <td>7.400000</td>\n",
       "      <td>75.000000</td>\n",
       "    </tr>\n",
       "    <tr>\n",
       "      <th>max</th>\n",
       "      <td>9.200000</td>\n",
       "      <td>95.000000</td>\n",
       "    </tr>\n",
       "  </tbody>\n",
       "</table>\n",
       "</div>"
      ],
      "text/plain": [
       "           Hours     Scores\n",
       "count  25.000000  25.000000\n",
       "mean    5.012000  51.480000\n",
       "std     2.525094  25.286887\n",
       "min     1.100000  17.000000\n",
       "25%     2.700000  30.000000\n",
       "50%     4.800000  47.000000\n",
       "75%     7.400000  75.000000\n",
       "max     9.200000  95.000000"
      ]
     },
     "execution_count": 14,
     "metadata": {},
     "output_type": "execute_result"
    }
   ],
   "source": [
    "data.describe()"
   ]
  },
  {
   "cell_type": "code",
   "execution_count": 17,
   "id": "9d6000bc",
   "metadata": {},
   "outputs": [
    {
     "name": "stdout",
     "output_type": "stream",
     "text": [
      "Mean study hours: 5.01\n",
      "Mean percentage score: 51.48\n"
     ]
    }
   ],
   "source": [
    "# Descriptive statistics\n",
    "study_hours_mean = data['Hours'].mean()\n",
    "percentage_score_mean = data['Scores'].mean()\n",
    "print(f\"Mean study hours: {study_hours_mean:.2f}\")\n",
    "print(f\"Mean percentage score: {percentage_score_mean:.2f}\")"
   ]
  },
  {
   "cell_type": "markdown",
   "id": "ee189498",
   "metadata": {},
   "source": [
    "Mean Study Hours: The mean study hours in the dataset is approximately 5.01 hours per day. This represents the average amount of time students spend studying.\n",
    "\n",
    "Mean Percentage Score: The mean percentage score in the dataset is around 51.48%. This indicates the average performance of the students."
   ]
  },
  {
   "cell_type": "code",
   "execution_count": 48,
   "id": "fc051ae3",
   "metadata": {},
   "outputs": [
    {
     "name": "stdout",
     "output_type": "stream",
     "text": [
      "Correlation coefficient: 0.98\n"
     ]
    }
   ],
   "source": [
    "correlation_coefficient, _ = stats.pearsonr(data['Hours'], data['Scores'])\n",
    "print(f\"Correlation coefficient: {correlation_coefficient:.2f}\")"
   ]
  },
  {
   "cell_type": "markdown",
   "id": "c6e05165",
   "metadata": {},
   "source": [
    "The correlation coefficient (Pearson's r) between study hours and percentage scores is approximately 0.98. This suggests a very strong positive linear relationship between the two variables. As study hours increase, percentage scores tend to increase as well."
   ]
  },
  {
   "cell_type": "markdown",
   "id": "714fe782",
   "metadata": {},
   "source": [
    "### As we know that correlation dosent mean causation but its mean that there is a relation . \n",
    "#### So lets try Regression Analysis."
   ]
  },
  {
   "cell_type": "code",
   "execution_count": 49,
   "id": "789c261c",
   "metadata": {},
   "outputs": [
    {
     "name": "stdout",
     "output_type": "stream",
     "text": [
      "Linear regression: Slope=9.78, Intercept=2.48\n",
      "R-squared value: 0.95\n",
      "P-value: 0.0000\n",
      "Standard error: 0.45\n"
     ]
    }
   ],
   "source": [
    "# Simple linear regression\n",
    "slope, intercept, r_value, p_value, std_err = stats.linregress(data['Hours'], data['Scores'])\n",
    "print(f\"Linear regression: Slope={slope:.2f}, Intercept={intercept:.2f}\")\n",
    "print(f\"R-squared value: {r_value**2:.2f}\")\n",
    "print(f\"P-value: {p_value:.4f}\")\n",
    "print(f\"Standard error: {std_err:.2f}\")"
   ]
  },
  {
   "cell_type": "markdown",
   "id": "13e9ba6c",
   "metadata": {},
   "source": [
    "Regression Equation: The linear regression equation is given by: Percentage Score = 2.48 + 9.78 * Study Hours. This equation allows you to predict the percentage score based on the number of study hours.\n",
    "\n",
    "R-squared Value: The R-squared value is approximately 0.95, indicating that 95% of the variation in percentage scores can be explained by study hours. This is a very high value, suggesting that study hours are an excellent predictor of percentage scores.\n",
    "\n",
    "P-value: The p-value is very close to 0 (p-value ≈ 0.0000), indicating that the relationship between study hours and percentage scores is statistically significant.\n",
    "\n",
    "Standard Error: The standard error of the regression is 0.45. It represents the average deviation of the actual test scores from the predicted scores by the regression model.\n"
   ]
  },
  {
   "cell_type": "code",
   "execution_count": 50,
   "id": "86451050",
   "metadata": {},
   "outputs": [
    {
     "data": {
      "image/png": "[encoded data removed]",
      "text/plain": [
       "<Figure size 720x432 with 1 Axes>"
      ]
     },
     "metadata": {
      "needs_background": "light"
     },
     "output_type": "display_data"
    }
   ],
   "source": [
    "plt.figure(figsize=(10, 6))\n",
    "sns.regplot(x='Hours', y='Scores', data=data, color='b', scatter_kws={'s': 50})\n",
    "plt.title('Regression Plot of Study Hours vs. Percentage Scores')\n",
    "plt.xlabel('Study Hours')\n",
    "plt.ylabel('Percentage Scores')\n",
    "plt.grid(True)\n",
    "plt.show()\n"
   ]
  },
  {
   "cell_type": "markdown",
   "id": "7f19cdb8",
   "metadata": {},
   "source": [
    "The regression plot shows a clear positive linear relationship between study hours and percentage scores. As study hours increase, the regression line indicates that percentage scores tend to increase as well."
   ]
  },
  {
   "cell_type": "markdown",
   "id": "d6a0c7ce",
   "metadata": {},
   "source": [
    "# Now we have to Train the Model and Make Predictions."
   ]
  },
  {
   "cell_type": "markdown",
   "id": "66de7560",
   "metadata": {},
   "source": [
    "### First Prepare the Data."
   ]
  },
  {
   "cell_type": "code",
   "execution_count": 34,
   "id": "eb9e40d1",
   "metadata": {},
   "outputs": [],
   "source": [
    "# Split the data into input (X) and output (y) variables\n",
    "from sklearn.model_selection import train_test_split\n",
    "\n",
    "X = data[['Hours']].values  # Study hours\n",
    "y = data['Scores'].values   # Percentage scores\n",
    "\n",
    "# Split the data into training and testing sets (80% training, 20% testing)\n",
    "X_train, X_test, y_train, y_test = train_test_split(X, y, test_size=0.2, random_state=0)"
   ]
  },
  {
   "cell_type": "markdown",
   "id": "55163616",
   "metadata": {},
   "source": [
    "The data was split into input (X) and output (y) variables, where \"X\" represents study hours, and \"y\" represents percentage scores.\n",
    "\n",
    "A train-test split was performed, allocating 80% of the data for training and 20% for testing the model."
   ]
  },
  {
   "cell_type": "markdown",
   "id": "a21ebc60",
   "metadata": {},
   "source": [
    "### Then Training the Model "
   ]
  },
  {
   "cell_type": "code",
   "execution_count": 52,
   "id": "eb46291f",
   "metadata": {},
   "outputs": [
    {
     "name": "stdout",
     "output_type": "stream",
     "text": [
      "Training Successful.\n"
     ]
    }
   ],
   "source": [
    "from sklearn.linear_model import LinearRegression\n",
    "\n",
    "# Create a linear regression model\n",
    "regressor = LinearRegression()\n",
    "\n",
    "# Train the model on the training data\n",
    "regressor.fit(X_train, y_train)\n",
    "\n",
    "print(\"Training Successful.\")"
   ]
  },
  {
   "cell_type": "markdown",
   "id": "8f699d20",
   "metadata": {},
   "source": [
    "A Linear Regression model was created and trained on the training data.\n",
    "\n",
    "The model learned the relationship between study hours and percentage scores, aiming to predict scores based on hours of study."
   ]
  },
  {
   "cell_type": "markdown",
   "id": "b30bdd17",
   "metadata": {},
   "source": [
    "# Now I will predict score if a student studies for 9.25 hrs/day?"
   ]
  },
  {
   "cell_type": "code",
   "execution_count": 53,
   "id": "5ce8e727",
   "metadata": {},
   "outputs": [
    {
     "name": "stdout",
     "output_type": "stream",
     "text": [
      "Predicted score for 9.25 hours of study: 93.6917\n"
     ]
    }
   ],
   "source": [
    "new_study_hours = np.array([[9.25]])  \n",
    "predicted_score = regressor.predict(new_study_hours)\n",
    "print(f\"Predicted score for 9.25 hours of study: {predicted_score[0]:.4f}\")"
   ]
  },
  {
   "cell_type": "markdown",
   "id": "69e04918",
   "metadata": {},
   "source": [
    "The trained model was utilized to make predictions. Specifically, it predicted the percentage score for a hypothetical scenario where a student studies for 9.25 hours per day and it shows the predicted score is 93.69."
   ]
  },
  {
   "cell_type": "markdown",
   "id": "59ecdcb7",
   "metadata": {},
   "source": [
    "### Finally , Evaluate the Model"
   ]
  },
  {
   "cell_type": "code",
   "execution_count": 54,
   "id": "4c93a7d2",
   "metadata": {},
   "outputs": [
    {
     "name": "stdout",
     "output_type": "stream",
     "text": [
      "Mean Absolute Error: 4.18\n",
      "Mean Squared Error: 21.60\n",
      "Root Mean Squared Error: 4.65\n",
      "R-squared (R2) Score: 0.95\n"
     ]
    }
   ],
   "source": [
    "from sklearn.metrics import mean_absolute_error, mean_squared_error, r2_score\n",
    "y_pred = regressor.predict(X_test)\n",
    "\n",
    "mae = mean_absolute_error(y_test, y_pred)\n",
    "mse = mean_squared_error(y_test, y_pred)\n",
    "rmse = np.sqrt(mse)\n",
    "r2 = r2_score(y_test, y_pred)\n",
    "\n",
    "print(f\"Mean Absolute Error: {mae:.2f}\")\n",
    "print(f\"Mean Squared Error: {mse:.2f}\")\n",
    "print(f\"Root Mean Squared Error: {rmse:.2f}\")\n",
    "print(f\"R-squared (R2) Score: {r2:.2f}\")"
   ]
  },
  {
   "cell_type": "markdown",
   "id": "e8274828",
   "metadata": {},
   "source": [
    "MAE (Mean Absolute Error): The model's average prediction error is around 4.18 percentage points, indicating relatively accurate predictions.\n",
    "\n",
    "MSE (Mean Squared Error): On average, squared prediction errors are 21.60, with a preference for smaller errors. This suggests that most predictions are close to the actual values.\n",
    "\n",
    "RMSE (Root Mean Squared Error): The model's predictions have an average error of approximately 4.65 percentage points, mirroring the target variable's units. Lower values are better.\n",
    "\n",
    "R2 Score (Coefficient of Determination): The model explains about 95% of the variability in percentage scores based on study hours, signifying a strong predictive relationship."
   ]
  },
  {
   "cell_type": "markdown",
   "id": "96ee835d",
   "metadata": {},
   "source": [
    "# Conclusion"
   ]
  },
  {
   "cell_type": "markdown",
   "id": "04905cad",
   "metadata": {},
   "source": [
    " This study illuminates the substantial impact of study hours on academic performance. The data-driven insights and regression analysis revealed the following key findings:\n",
    "\n",
    "Study hours exhibit a strong positive correlation with percentage scores, making them a pivotal predictor of academic success.\n",
    "\n",
    "The linear regression model, encapsulated by the equation \"Percentage Score = 9.78 * Study Hours + 2.48,\" is highly effective in predicting student scores based on their study hours.\n",
    "\n",
    "An exceptional R-squared value of approximately 0.95 underscores the model's ability to explain 95% of the variation in percentage scores.\n",
    "\n",
    "This study has practical implications for both educators and students, offering valuable guidance on optimizing study strategies for improved academic outcomes. By recognizing the pivotal role of study habits, educational stakeholders can implement targeted interventions to enhance learning experiences and achievements."
   ]
  },
  {
   "cell_type": "code",
   "execution_count": null,
   "id": "37d996e6",
   "metadata": {},
   "outputs": [],
   "source": []
  }
 ],
 "metadata": {
  "kernelspec": {
   "display_name": "Python 3",
   "language": "python",
   "name": "python3"
  },
  "language_info": {
   "codemirror_mode": {
    "name": "ipython",
    "version": 3
   },
   "file_extension": ".py",
   "mimetype": "text/x-python",
   "name": "python",
   "nbconvert_exporter": "python",
   "pygments_lexer": "ipython3",
   "version": "3.8.8"
  }
 },
 "nbformat": 4,
 "nbformat_minor": 5
}
